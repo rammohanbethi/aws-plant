{
 "cells": [
  {
   "cell_type": "code",
   "execution_count": 3,
   "metadata": {},
   "outputs": [],
   "source": [
    "from tensorflow.keras.preprocessing.image import ImageDataGenerator\n",
    "train_datagen = ImageDataGenerator(rescale = 1./255,\n",
    "                                   shear_range = 0.2,\n",
    "                                   zoom_range = 0.2,\n",
    "                                   horizontal_flip = True)\n",
    "\n",
    "test_datagen =ImageDataGenerator(rescale = 1)"
   ]
  },
  {
   "cell_type": "code",
   "execution_count": 4,
   "metadata": {},
   "outputs": [
    {
     "name": "stdout",
     "output_type": "stream",
     "text": [
      "Found 11386 images belonging to 9 classes.\n"
     ]
    }
   ],
   "source": [
    "x_train = train_datagen.flow_from_directory('dataset/Veg-dataset/train_set', \n",
    "                                            target_size = (128,128), \n",
    "                                            batch_size = 16, \n",
    "                                            class_mode = 'categorical')"
   ]
  },
  {
   "cell_type": "code",
   "execution_count": 5,
   "metadata": {},
   "outputs": [
    {
     "name": "stdout",
     "output_type": "stream",
     "text": [
      "Found 3416 images belonging to 9 classes.\n"
     ]
    }
   ],
   "source": [
    "x_test = test_datagen.flow_from_directory('dataset/Veg-dataset/test_set', \n",
    "                                          target_size = (128,128), \n",
    "                                          batch_size = 16, \n",
    "                                          class_mode = 'categorical')"
   ]
  },
  {
   "cell_type": "code",
   "execution_count": 6,
   "metadata": {},
   "outputs": [
    {
     "name": "stdout",
     "output_type": "stream",
     "text": [
      "{'Pepper,_bell___Bacterial_spot': 0, 'Pepper,_bell___healthy': 1, 'Potato___Early_blight': 2, 'Potato___Late_blight': 3, 'Potato___healthy': 4, 'Tomato___Bacterial_spot': 5, 'Tomato___Late_blight': 6, 'Tomato___Leaf_Mold': 7, 'Tomato___Septoria_leaf_spot': 8}\n"
     ]
    }
   ],
   "source": [
    "print(x_train.class_indices)"
   ]
  },
  {
   "cell_type": "code",
   "execution_count": 7,
   "metadata": {},
   "outputs": [],
   "source": [
    "from tensorflow.keras.models import Sequential\n",
    "from tensorflow.keras.layers import Dense\n",
    "from tensorflow.keras.layers import Convolution2D\n",
    "from tensorflow.keras.layers import MaxPooling2D\n",
    "from tensorflow.keras.layers import Flatten\n",
    "import warnings\n",
    "warnings.filterwarnings('ignore')"
   ]
  },
  {
   "cell_type": "code",
   "execution_count": 8,
   "metadata": {},
   "outputs": [],
   "source": [
    "model = Sequential()"
   ]
  },
  {
   "cell_type": "code",
   "execution_count": 9,
   "metadata": {},
   "outputs": [],
   "source": [
    "model.add(Convolution2D(32,(3,3), input_shape = (128,128,3), activation = 'relu'))"
   ]
  },
  {
   "cell_type": "code",
   "execution_count": 10,
   "metadata": {},
   "outputs": [],
   "source": [
    "model.add(MaxPooling2D(pool_size = (2,2)))"
   ]
  },
  {
   "cell_type": "code",
   "execution_count": 11,
   "metadata": {},
   "outputs": [],
   "source": [
    "model.add(Flatten())"
   ]
  },
  {
   "cell_type": "code",
   "execution_count": 14,
   "metadata": {},
   "outputs": [],
   "source": [
    "model.add(Dense(units = 300, kernel_initializer ='uniform', activation ='relu'))"
   ]
  },
  {
   "cell_type": "code",
   "execution_count": 15,
   "metadata": {},
   "outputs": [],
   "source": [
    "model.add(Dense(units = 150, kernel_initializer ='uniform', activation ='relu'))"
   ]
  },
  {
   "cell_type": "code",
   "execution_count": 16,
   "metadata": {},
   "outputs": [],
   "source": [
    "model.add(Dense(units = 75, kernel_initializer ='uniform', activation ='relu'))"
   ]
  },
  {
   "cell_type": "code",
   "execution_count": 18,
   "metadata": {},
   "outputs": [],
   "source": [
    "model.add(Dense(units = 9,activation = 'softmax',kernel_initializer ='uniform'))"
   ]
  },
  {
   "cell_type": "code",
   "execution_count": 19,
   "metadata": {},
   "outputs": [],
   "source": [
    "model.compile(loss = 'categorical_crossentropy',optimizer = \"adam\",metrics = [\"accuracy\"])"
   ]
  },
  {
   "cell_type": "code",
   "execution_count": 20,
   "metadata": {
    "scrolled": true
   },
   "outputs": [
    {
     "name": "stdout",
     "output_type": "stream",
     "text": [
      "Epoch 1/20\n",
      "89/89 [==============================] - 71s 780ms/step - loss: 2.1227 - accuracy: 0.1608 - val_loss: 197.7938 - val_accuracy: 0.2407\n",
      "Epoch 2/20\n",
      "89/89 [==============================] - 80s 892ms/step - loss: 1.7574 - accuracy: 0.2963 - val_loss: 269.7591 - val_accuracy: 0.3588\n",
      "Epoch 3/20\n",
      "89/89 [==============================] - 78s 869ms/step - loss: 1.3453 - accuracy: 0.5012 - val_loss: 315.5106 - val_accuracy: 0.3310\n",
      "Epoch 4/20\n",
      "89/89 [==============================] - 74s 830ms/step - loss: 1.2804 - accuracy: 0.5144 - val_loss: 309.4907 - val_accuracy: 0.3704\n",
      "Epoch 5/20\n",
      "89/89 [==============================] - 42s 471ms/step - loss: 1.2059 - accuracy: 0.5620 - val_loss: 195.4753 - val_accuracy: 0.4468\n",
      "Epoch 6/20\n",
      "89/89 [==============================] - 41s 458ms/step - loss: 1.0975 - accuracy: 0.6270 - val_loss: 284.9650 - val_accuracy: 0.4167\n",
      "Epoch 7/20\n",
      "89/89 [==============================] - 40s 450ms/step - loss: 1.0449 - accuracy: 0.6196 - val_loss: 230.3301 - val_accuracy: 0.3935\n",
      "Epoch 8/20\n",
      "89/89 [==============================] - 40s 447ms/step - loss: 0.9216 - accuracy: 0.6665 - val_loss: 469.6429 - val_accuracy: 0.2500\n",
      "Epoch 9/20\n",
      "89/89 [==============================] - 38s 428ms/step - loss: 0.8776 - accuracy: 0.6842 - val_loss: 425.9497 - val_accuracy: 0.4444\n",
      "Epoch 10/20\n",
      "89/89 [==============================] - 38s 427ms/step - loss: 0.8546 - accuracy: 0.6847 - val_loss: 307.9897 - val_accuracy: 0.4167\n",
      "Epoch 11/20\n",
      "89/89 [==============================] - 37s 420ms/step - loss: 0.7406 - accuracy: 0.7237 - val_loss: 569.2921 - val_accuracy: 0.3495\n",
      "Epoch 12/20\n",
      "89/89 [==============================] - 37s 420ms/step - loss: 0.6973 - accuracy: 0.7444 - val_loss: 506.8300 - val_accuracy: 0.4028\n",
      "Epoch 13/20\n",
      "89/89 [==============================] - 792s 9s/step - loss: 0.7428 - accuracy: 0.7430 - val_loss: 643.0173 - val_accuracy: 0.3472\n",
      "Epoch 14/20\n",
      "89/89 [==============================] - 42s 473ms/step - loss: 0.5963 - accuracy: 0.7974 - val_loss: 462.9885 - val_accuracy: 0.4213\n",
      "Epoch 15/20\n",
      "89/89 [==============================] - 37s 411ms/step - loss: 0.5758 - accuracy: 0.7999 - val_loss: 565.5370 - val_accuracy: 0.3634\n",
      "Epoch 16/20\n",
      "89/89 [==============================] - 39s 432ms/step - loss: 0.5159 - accuracy: 0.8239 - val_loss: 683.0142 - val_accuracy: 0.3194\n",
      "Epoch 17/20\n",
      "89/89 [==============================] - 37s 411ms/step - loss: 0.5050 - accuracy: 0.8038 - val_loss: 916.3293 - val_accuracy: 0.2824\n",
      "Epoch 18/20\n",
      "89/89 [==============================] - 37s 415ms/step - loss: 0.5397 - accuracy: 0.8051 - val_loss: 838.9163 - val_accuracy: 0.3889\n",
      "Epoch 19/20\n",
      "89/89 [==============================] - 37s 416ms/step - loss: 0.5666 - accuracy: 0.8073 - val_loss: 1204.9559 - val_accuracy: 0.3912\n",
      "Epoch 20/20\n",
      "89/89 [==============================] - 37s 414ms/step - loss: 0.5466 - accuracy: 0.8132 - val_loss: 912.5462 - val_accuracy: 0.3819\n"
     ]
    },
    {
     "data": {
      "text/plain": [
       "<tensorflow.python.keras.callbacks.History at 0x20a579acd30>"
      ]
     },
     "execution_count": 20,
     "metadata": {},
     "output_type": "execute_result"
    }
   ],
   "source": [
    "model.fit_generator(x_train, steps_per_epoch = 89,\n",
    "                    epochs = 20,\n",
    "                    validation_data = x_test,\n",
    "                    validation_steps = 27)"
   ]
  },
  {
   "cell_type": "code",
   "execution_count": 21,
   "metadata": {},
   "outputs": [],
   "source": [
    "model.save('tensorflow-vegetable.h5')"
   ]
  },
  {
   "cell_type": "code",
   "execution_count": 17,
   "metadata": {},
   "outputs": [],
   "source": [
    "from keras.models import load_model\n",
    "from keras.preprocessing import image\n",
    "import numpy as np\n",
    "import cv2"
   ]
  },
  {
   "cell_type": "code",
   "execution_count": 18,
   "metadata": {},
   "outputs": [],
   "source": [
    "model = load_model(\"disease.h5\")"
   ]
  },
  {
   "cell_type": "code",
   "execution_count": 50,
   "metadata": {},
   "outputs": [
    {
     "data": {
      "text/plain": [
       "(1, 128, 128, 3)"
      ]
     },
     "execution_count": 50,
     "metadata": {},
     "output_type": "execute_result"
    }
   ],
   "source": [
    "img = image.load_img(r'./leaf disease/test_set/Tomato___Bacterial_spot/b8e606e2-0630-453f-8688-b4350feb2bce___GCREC_Bact.Sp 3033.JPG',\n",
    "                     target_size = (128,128))\n",
    "x = image.img_to_array(img)\n",
    "x = np.expand_dims(x,axis = 0)\n",
    "x.shape"
   ]
  },
  {
   "cell_type": "code",
   "execution_count": 51,
   "metadata": {},
   "outputs": [
    {
     "data": {
      "text/plain": [
       "array([8], dtype=int64)"
      ]
     },
     "execution_count": 51,
     "metadata": {},
     "output_type": "execute_result"
    }
   ],
   "source": [
    "pred = model.predict_classes(x)\n",
    "pred"
   ]
  },
  {
   "cell_type": "code",
   "execution_count": null,
   "metadata": {},
   "outputs": [],
   "source": []
  },
  {
   "cell_type": "code",
   "execution_count": null,
   "metadata": {},
   "outputs": [],
   "source": []
  }
 ],
 "metadata": {
  "kernelspec": {
   "display_name": "Python 3",
   "language": "python",
   "name": "python3"
  },
  "language_info": {
   "codemirror_mode": {
    "name": "ipython",
    "version": 3
   },
   "file_extension": ".py",
   "mimetype": "text/x-python",
   "name": "python",
   "nbconvert_exporter": "python",
   "pygments_lexer": "ipython3",
   "version": "3.8.5"
  }
 },
 "nbformat": 4,
 "nbformat_minor": 2
}
